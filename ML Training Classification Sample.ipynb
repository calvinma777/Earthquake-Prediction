{
  "nbformat": 4,
  "nbformat_minor": 0,
  "metadata": {
    "colab": {
      "name": "869_Group_Assignment_submissonv2.ipynb",
      "provenance": [],
      "collapsed_sections": []
    },
    "kernelspec": {
      "name": "python3",
      "display_name": "Python 3"
    },
    "language_info": {
      "name": "python"
    }
  },
  "cells": [
    {
      "cell_type": "code",
      "metadata": {
        "colab": {
          "base_uri": "https://localhost:8080/"
        },
        "id": "6lWzIY1GTz5L",
        "outputId": "bf118d98-cfda-4d93-c31a-85b7d5347a6d"
      },
      "source": [
        "import sys\n",
        "!{sys.executable} -m pip install category_encoders"
      ],
      "execution_count": null,
      "outputs": [
        {
          "output_type": "stream",
          "name": "stdout",
          "text": [
            "Collecting category_encoders\n",
            "  Downloading category_encoders-2.3.0-py2.py3-none-any.whl (82 kB)\n",
            "\u001b[?25l\r\u001b[K     |████                            | 10 kB 19.0 MB/s eta 0:00:01\r\u001b[K     |████████                        | 20 kB 11.0 MB/s eta 0:00:01\r\u001b[K     |████████████                    | 30 kB 8.3 MB/s eta 0:00:01\r\u001b[K     |████████████████                | 40 kB 7.2 MB/s eta 0:00:01\r\u001b[K     |████████████████████            | 51 kB 4.3 MB/s eta 0:00:01\r\u001b[K     |████████████████████████        | 61 kB 4.5 MB/s eta 0:00:01\r\u001b[K     |████████████████████████████    | 71 kB 4.4 MB/s eta 0:00:01\r\u001b[K     |███████████████████████████████▉| 81 kB 5.0 MB/s eta 0:00:01\r\u001b[K     |████████████████████████████████| 82 kB 259 kB/s \n",
            "\u001b[?25hRequirement already satisfied: scikit-learn>=0.20.0 in /usr/local/lib/python3.7/dist-packages (from category_encoders) (1.0.1)\n",
            "Requirement already satisfied: pandas>=0.21.1 in /usr/local/lib/python3.7/dist-packages (from category_encoders) (1.1.5)\n",
            "Requirement already satisfied: scipy>=1.0.0 in /usr/local/lib/python3.7/dist-packages (from category_encoders) (1.4.1)\n",
            "Requirement already satisfied: numpy>=1.14.0 in /usr/local/lib/python3.7/dist-packages (from category_encoders) (1.19.5)\n",
            "Requirement already satisfied: statsmodels>=0.9.0 in /usr/local/lib/python3.7/dist-packages (from category_encoders) (0.10.2)\n",
            "Requirement already satisfied: patsy>=0.5.1 in /usr/local/lib/python3.7/dist-packages (from category_encoders) (0.5.2)\n",
            "Requirement already satisfied: python-dateutil>=2.7.3 in /usr/local/lib/python3.7/dist-packages (from pandas>=0.21.1->category_encoders) (2.8.2)\n",
            "Requirement already satisfied: pytz>=2017.2 in /usr/local/lib/python3.7/dist-packages (from pandas>=0.21.1->category_encoders) (2018.9)\n",
            "Requirement already satisfied: six in /usr/local/lib/python3.7/dist-packages (from patsy>=0.5.1->category_encoders) (1.15.0)\n",
            "Requirement already satisfied: joblib>=0.11 in /usr/local/lib/python3.7/dist-packages (from scikit-learn>=0.20.0->category_encoders) (1.1.0)\n",
            "Requirement already satisfied: threadpoolctl>=2.0.0 in /usr/local/lib/python3.7/dist-packages (from scikit-learn>=0.20.0->category_encoders) (3.0.0)\n",
            "Installing collected packages: category-encoders\n",
            "Successfully installed category-encoders-2.3.0\n"
          ]
        }
      ]
    },
    {
      "cell_type": "code",
      "metadata": {
        "colab": {
          "base_uri": "https://localhost:8080/"
        },
        "id": "-vj64EDfvUZ4",
        "outputId": "8d088748-7c71-4386-c478-5e2b7d78bbee"
      },
      "source": [
        "!pip install flaml"
      ],
      "execution_count": null,
      "outputs": [
        {
          "output_type": "stream",
          "name": "stdout",
          "text": [
            "Collecting flaml\n",
            "  Downloading FLAML-0.7.1-py3-none-any.whl (160 kB)\n",
            "\u001b[?25l\r\u001b[K     |██                              | 10 kB 20.8 MB/s eta 0:00:01\r\u001b[K     |████                            | 20 kB 9.4 MB/s eta 0:00:01\r\u001b[K     |██████▏                         | 30 kB 6.7 MB/s eta 0:00:01\r\u001b[K     |████████▏                       | 40 kB 3.7 MB/s eta 0:00:01\r\u001b[K     |██████████▏                     | 51 kB 4.1 MB/s eta 0:00:01\r\u001b[K     |████████████▎                   | 61 kB 4.3 MB/s eta 0:00:01\r\u001b[K     |██████████████▎                 | 71 kB 4.4 MB/s eta 0:00:01\r\u001b[K     |████████████████▎               | 81 kB 4.9 MB/s eta 0:00:01\r\u001b[K     |██████████████████▍             | 92 kB 4.9 MB/s eta 0:00:01\r\u001b[K     |████████████████████▍           | 102 kB 4.1 MB/s eta 0:00:01\r\u001b[K     |██████████████████████▍         | 112 kB 4.1 MB/s eta 0:00:01\r\u001b[K     |████████████████████████▌       | 122 kB 4.1 MB/s eta 0:00:01\r\u001b[K     |██████████████████████████▌     | 133 kB 4.1 MB/s eta 0:00:01\r\u001b[K     |████████████████████████████▌   | 143 kB 4.1 MB/s eta 0:00:01\r\u001b[K     |██████████████████████████████▋ | 153 kB 4.1 MB/s eta 0:00:01\r\u001b[K     |████████████████████████████████| 160 kB 4.1 MB/s \n",
            "\u001b[?25hRequirement already satisfied: scipy>=1.4.1 in /usr/local/lib/python3.7/dist-packages (from flaml) (1.4.1)\n",
            "Collecting lightgbm>=2.3.1\n",
            "  Downloading lightgbm-3.3.1-py3-none-manylinux1_x86_64.whl (2.0 MB)\n",
            "\u001b[K     |████████████████████████████████| 2.0 MB 45.6 MB/s \n",
            "\u001b[?25hRequirement already satisfied: scikit-learn>=0.24 in /usr/local/lib/python3.7/dist-packages (from flaml) (1.0.1)\n",
            "Requirement already satisfied: NumPy>=1.16.2 in /usr/local/lib/python3.7/dist-packages (from flaml) (1.19.5)\n",
            "Requirement already satisfied: xgboost<=1.3.3,>=0.90 in /usr/local/lib/python3.7/dist-packages (from flaml) (0.90)\n",
            "Requirement already satisfied: pandas>=1.1.4 in /usr/local/lib/python3.7/dist-packages (from flaml) (1.1.5)\n",
            "Requirement already satisfied: wheel in /usr/local/lib/python3.7/dist-packages (from lightgbm>=2.3.1->flaml) (0.37.0)\n",
            "Requirement already satisfied: pytz>=2017.2 in /usr/local/lib/python3.7/dist-packages (from pandas>=1.1.4->flaml) (2018.9)\n",
            "Requirement already satisfied: python-dateutil>=2.7.3 in /usr/local/lib/python3.7/dist-packages (from pandas>=1.1.4->flaml) (2.8.2)\n",
            "Requirement already satisfied: six>=1.5 in /usr/local/lib/python3.7/dist-packages (from python-dateutil>=2.7.3->pandas>=1.1.4->flaml) (1.15.0)\n",
            "Requirement already satisfied: joblib>=0.11 in /usr/local/lib/python3.7/dist-packages (from scikit-learn>=0.24->flaml) (1.1.0)\n",
            "Requirement already satisfied: threadpoolctl>=2.0.0 in /usr/local/lib/python3.7/dist-packages (from scikit-learn>=0.24->flaml) (3.0.0)\n",
            "Installing collected packages: lightgbm, flaml\n",
            "  Attempting uninstall: lightgbm\n",
            "    Found existing installation: lightgbm 2.2.3\n",
            "    Uninstalling lightgbm-2.2.3:\n",
            "      Successfully uninstalled lightgbm-2.2.3\n",
            "Successfully installed flaml-0.7.1 lightgbm-3.3.1\n"
          ]
        }
      ]
    },
    {
      "cell_type": "code",
      "metadata": {
        "id": "NPMr4ZUdvl2E",
        "colab": {
          "base_uri": "https://localhost:8080/"
        },
        "outputId": "3058456d-e095-41da-dd61-f84a1d96fac7"
      },
      "source": [
        "#Load data\n",
        "import pandas as pd\n",
        "from google.colab import files\n",
        "from sklearn.model_selection import KFold\n",
        "from sklearn.pipeline import Pipeline\n",
        "from sklearn.preprocessing import StandardScaler, OneHotEncoder, FunctionTransformer, RobustScaler, PowerTransformer\n",
        "from sklearn.compose import ColumnTransformer\n",
        "from sklearn.model_selection import cross_val_score, GridSearchCV, RandomizedSearchCV\n",
        "from sklearn.ensemble import RandomForestClassifier\n",
        "from sklearn.impute import SimpleImputer\n",
        "from sklearn.decomposition import KernelPCA, PCA, TruncatedSVD\n",
        "from sklearn.metrics import classification_report, confusion_matrix\n",
        "from sklearn.feature_selection import SelectKBest, chi2\n",
        "import seaborn as sns\n",
        "import numpy as np\n",
        "import matplotlib.pyplot as plt\n",
        "from xgboost import XGBClassifier\n",
        "from category_encoders import TargetEncoder\n",
        "import xgboost as xgb\n",
        "from scipy.stats import randint, uniform\n",
        "import lightgbm as lgb"
      ],
      "execution_count": null,
      "outputs": [
        {
          "output_type": "stream",
          "name": "stderr",
          "text": [
            "/usr/local/lib/python3.7/dist-packages/statsmodels/tools/_testing.py:19: FutureWarning: pandas.util.testing is deprecated. Use the functions in the public API at pandas.testing instead.\n",
            "  import pandas.util.testing as tm\n"
          ]
        }
      ]
    },
    {
      "cell_type": "code",
      "metadata": {
        "colab": {
          "resources": {
            "http://localhost:8080/nbextensions/google.colab/files.js": {
              "data": "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",
              "ok": true,
              "headers": [
                [
                  "content-type",
                  "application/javascript"
                ]
              ],
              "status": 200,
              "status_text": ""
            }
          },
          "base_uri": "https://localhost:8080/",
          "height": 73
        },
        "id": "WhmcPgBM-ztB",
        "outputId": "43fcb415-ae8f-4fd1-a660-e2313e99bb1c"
      },
      "source": [
        "uploaded = files.upload()\n"
      ],
      "execution_count": null,
      "outputs": [
        {
          "output_type": "display_data",
          "data": {
            "text/html": [
              "\n",
              "     <input type=\"file\" id=\"files-10c7270a-3899-4477-a5c0-e84946a47567\" name=\"files[]\" multiple disabled\n",
              "        style=\"border:none\" />\n",
              "     <output id=\"result-10c7270a-3899-4477-a5c0-e84946a47567\">\n",
              "      Upload widget is only available when the cell has been executed in the\n",
              "      current browser session. Please rerun this cell to enable.\n",
              "      </output>\n",
              "      <script src=\"/nbextensions/google.colab/files.js\"></script> "
            ],
            "text/plain": [
              "<IPython.core.display.HTML object>"
            ]
          },
          "metadata": {}
        },
        {
          "output_type": "stream",
          "name": "stdout",
          "text": [
            "Saving submission_format.csv to submission_format.csv\n"
          ]
        }
      ]
    },
    {
      "cell_type": "code",
      "metadata": {
        "id": "-R0Ll6ie-0dR"
      },
      "source": [
        "import io \n",
        "df = pd.read_csv(io.BytesIO(uploaded['train_values.csv']))"
      ],
      "execution_count": null,
      "outputs": []
    },
    {
      "cell_type": "code",
      "metadata": {
        "id": "xlzPFLX9Oac7"
      },
      "source": [
        "#Take into dataframe\n",
        "df_features = df"
      ],
      "execution_count": null,
      "outputs": []
    },
    {
      "cell_type": "code",
      "metadata": {
        "id": "LXyOCuJ9EY_k"
      },
      "source": [
        "df_y = pd.read_csv(io.BytesIO(uploaded['train_labels.csv']))"
      ],
      "execution_count": null,
      "outputs": []
    },
    {
      "cell_type": "code",
      "metadata": {
        "id": "bgSdsRZ4bzxq"
      },
      "source": [
        "df_label = df_y"
      ],
      "execution_count": null,
      "outputs": []
    },
    {
      "cell_type": "code",
      "metadata": {
        "id": "JgeSd2vZehUr"
      },
      "source": [
        "df_features['damage_grade'] = df_label['damage_grade']"
      ],
      "execution_count": null,
      "outputs": []
    },
    {
      "cell_type": "code",
      "metadata": {
        "id": "z1q2gAeWGxK9"
      },
      "source": [
        "#import Test datasets\n",
        "X_test = pd.read_csv(io.BytesIO(uploaded['test_values.csv']))"
      ],
      "execution_count": null,
      "outputs": []
    },
    {
      "cell_type": "code",
      "metadata": {
        "id": "5Mwunhf1HNqg"
      },
      "source": [
        "y_test = pd.read_csv(io.BytesIO(uploaded['submission_format.csv']))"
      ],
      "execution_count": null,
      "outputs": []
    },
    {
      "cell_type": "code",
      "metadata": {
        "colab": {
          "base_uri": "https://localhost:8080/",
          "height": 613
        },
        "id": "b1470p9KehkA",
        "outputId": "98374060-ec1a-4d8a-931c-e87343f5134d"
      },
      "source": [
        "#Check correlation for all features against the damage grade\n",
        "plt.figure(figsize=(10,10))\n",
        "cor=df_features.corr()[\"damage_grade\"]\n",
        "cor=pd.DataFrame(cor)\n",
        "sns.heatmap(cor,annot=True,cmap=\"viridis\")"
      ],
      "execution_count": null,
      "outputs": [
        {
          "output_type": "execute_result",
          "data": {
            "text/plain": [
              "<matplotlib.axes._subplots.AxesSubplot at 0x7f46a1f6d550>"
            ]
          },
          "metadata": {},
          "execution_count": 11
        },
        {
          "output_type": "display_data",
          "data": {
            "image/png": "[encoded data removed]",
            "text/plain": [
              "<Figure size 720x720 with 2 Axes>"
            ]
          },
          "metadata": {
            "needs_background": "light"
          }
        }
      ]
    },
    {
      "cell_type": "code",
      "metadata": {
        "id": "GBWRQ7P0ehxr"
      },
      "source": [
        "from sklearn.model_selection import train_test_split\n",
        "\n",
        "X_train = df_features.drop(['damage_grade'],axis=1)\n",
        "y_train = df_features['damage_grade']"
      ],
      "execution_count": null,
      "outputs": []
    },
    {
      "cell_type": "code",
      "metadata": {
        "id": "KngEg9f1WLG5",
        "colab": {
          "base_uri": "https://localhost:8080/",
          "height": 223
        },
        "outputId": "96869296-f942-4197-f0bc-081978d0e6fc"
      },
      "source": [
        "df_features.head()"
      ],
      "execution_count": null,
      "outputs": [
        {
          "output_type": "execute_result",
          "data": {
            "text/html": [
              "<div>\n",
              "<style scoped>\n",
              "    .dataframe tbody tr th:only-of-type {\n",
              "        vertical-align: middle;\n",
              "    }\n",
              "\n",
              "    .dataframe tbody tr th {\n",
              "        vertical-align: top;\n",
              "    }\n",
              "\n",
              "    .dataframe thead th {\n",
              "        text-align: right;\n",
              "    }\n",
              "</style>\n",
              "<table border=\"1\" class=\"dataframe\">\n",
              "  <thead>\n",
              "    <tr style=\"text-align: right;\">\n",
              "      <th></th>\n",
              "      <th>building_id</th>\n",
              "      <th>geo_level_1_id</th>\n",
              "      <th>geo_level_2_id</th>\n",
              "      <th>geo_level_3_id</th>\n",
              "      <th>count_floors_pre_eq</th>\n",
              "      <th>age</th>\n",
              "      <th>area_percentage</th>\n",
              "      <th>height_percentage</th>\n",
              "      <th>land_surface_condition</th>\n",
              "      <th>foundation_type</th>\n",
              "      <th>roof_type</th>\n",
              "      <th>ground_floor_type</th>\n",
              "      <th>other_floor_type</th>\n",
              "      <th>position</th>\n",
              "      <th>plan_configuration</th>\n",
              "      <th>has_superstructure_adobe_mud</th>\n",
              "      <th>has_superstructure_mud_mortar_stone</th>\n",
              "      <th>has_superstructure_stone_flag</th>\n",
              "      <th>has_superstructure_cement_mortar_stone</th>\n",
              "      <th>has_superstructure_mud_mortar_brick</th>\n",
              "      <th>has_superstructure_cement_mortar_brick</th>\n",
              "      <th>has_superstructure_timber</th>\n",
              "      <th>has_superstructure_bamboo</th>\n",
              "      <th>has_superstructure_rc_non_engineered</th>\n",
              "      <th>has_superstructure_rc_engineered</th>\n",
              "      <th>has_superstructure_other</th>\n",
              "      <th>legal_ownership_status</th>\n",
              "      <th>count_families</th>\n",
              "      <th>has_secondary_use</th>\n",
              "      <th>has_secondary_use_agriculture</th>\n",
              "      <th>has_secondary_use_hotel</th>\n",
              "      <th>has_secondary_use_rental</th>\n",
              "      <th>has_secondary_use_institution</th>\n",
              "      <th>has_secondary_use_school</th>\n",
              "      <th>has_secondary_use_industry</th>\n",
              "      <th>has_secondary_use_health_post</th>\n",
              "      <th>has_secondary_use_gov_office</th>\n",
              "      <th>has_secondary_use_use_police</th>\n",
              "      <th>has_secondary_use_other</th>\n",
              "      <th>damage_grade</th>\n",
              "    </tr>\n",
              "  </thead>\n",
              "  <tbody>\n",
              "    <tr>\n",
              "      <th>0</th>\n",
              "      <td>802906</td>\n",
              "      <td>6</td>\n",
              "      <td>487</td>\n",
              "      <td>12198</td>\n",
              "      <td>2</td>\n",
              "      <td>30</td>\n",
              "      <td>6</td>\n",
              "      <td>5</td>\n",
              "      <td>t</td>\n",
              "      <td>r</td>\n",
              "      <td>n</td>\n",
              "      <td>f</td>\n",
              "      <td>q</td>\n",
              "      <td>t</td>\n",
              "      <td>d</td>\n",
              "      <td>1</td>\n",
              "      <td>1</td>\n",
              "      <td>0</td>\n",
              "      <td>0</td>\n",
              "      <td>0</td>\n",
              "      <td>0</td>\n",
              "      <td>0</td>\n",
              "      <td>0</td>\n",
              "      <td>0</td>\n",
              "      <td>0</td>\n",
              "      <td>0</td>\n",
              "      <td>v</td>\n",
              "      <td>1</td>\n",
              "      <td>0</td>\n",
              "      <td>0</td>\n",
              "      <td>0</td>\n",
              "      <td>0</td>\n",
              "      <td>0</td>\n",
              "      <td>0</td>\n",
              "      <td>0</td>\n",
              "      <td>0</td>\n",
              "      <td>0</td>\n",
              "      <td>0</td>\n",
              "      <td>0</td>\n",
              "      <td>3</td>\n",
              "    </tr>\n",
              "    <tr>\n",
              "      <th>1</th>\n",
              "      <td>28830</td>\n",
              "      <td>8</td>\n",
              "      <td>900</td>\n",
              "      <td>2812</td>\n",
              "      <td>2</td>\n",
              "      <td>10</td>\n",
              "      <td>8</td>\n",
              "      <td>7</td>\n",
              "      <td>o</td>\n",
              "      <td>r</td>\n",
              "      <td>n</td>\n",
              "      <td>x</td>\n",
              "      <td>q</td>\n",
              "      <td>s</td>\n",
              "      <td>d</td>\n",
              "      <td>0</td>\n",
              "      <td>1</td>\n",
              "      <td>0</td>\n",
              "      <td>0</td>\n",
              "      <td>0</td>\n",
              "      <td>0</td>\n",
              "      <td>0</td>\n",
              "      <td>0</td>\n",
              "      <td>0</td>\n",
              "      <td>0</td>\n",
              "      <td>0</td>\n",
              "      <td>v</td>\n",
              "      <td>1</td>\n",
              "      <td>0</td>\n",
              "      <td>0</td>\n",
              "      <td>0</td>\n",
              "      <td>0</td>\n",
              "      <td>0</td>\n",
              "      <td>0</td>\n",
              "      <td>0</td>\n",
              "      <td>0</td>\n",
              "      <td>0</td>\n",
              "      <td>0</td>\n",
              "      <td>0</td>\n",
              "      <td>2</td>\n",
              "    </tr>\n",
              "    <tr>\n",
              "      <th>2</th>\n",
              "      <td>94947</td>\n",
              "      <td>21</td>\n",
              "      <td>363</td>\n",
              "      <td>8973</td>\n",
              "      <td>2</td>\n",
              "      <td>10</td>\n",
              "      <td>5</td>\n",
              "      <td>5</td>\n",
              "      <td>t</td>\n",
              "      <td>r</td>\n",
              "      <td>n</td>\n",
              "      <td>f</td>\n",
              "      <td>x</td>\n",
              "      <td>t</td>\n",
              "      <td>d</td>\n",
              "      <td>0</td>\n",
              "      <td>1</td>\n",
              "      <td>0</td>\n",
              "      <td>0</td>\n",
              "      <td>0</td>\n",
              "      <td>0</td>\n",
              "      <td>0</td>\n",
              "      <td>0</td>\n",
              "      <td>0</td>\n",
              "      <td>0</td>\n",
              "      <td>0</td>\n",
              "      <td>v</td>\n",
              "      <td>1</td>\n",
              "      <td>0</td>\n",
              "      <td>0</td>\n",
              "      <td>0</td>\n",
              "      <td>0</td>\n",
              "      <td>0</td>\n",
              "      <td>0</td>\n",
              "      <td>0</td>\n",
              "      <td>0</td>\n",
              "      <td>0</td>\n",
              "      <td>0</td>\n",
              "      <td>0</td>\n",
              "      <td>3</td>\n",
              "    </tr>\n",
              "    <tr>\n",
              "      <th>3</th>\n",
              "      <td>590882</td>\n",
              "      <td>22</td>\n",
              "      <td>418</td>\n",
              "      <td>10694</td>\n",
              "      <td>2</td>\n",
              "      <td>10</td>\n",
              "      <td>6</td>\n",
              "      <td>5</td>\n",
              "      <td>t</td>\n",
              "      <td>r</td>\n",
              "      <td>n</td>\n",
              "      <td>f</td>\n",
              "      <td>x</td>\n",
              "      <td>s</td>\n",
              "      <td>d</td>\n",
              "      <td>0</td>\n",
              "      <td>1</td>\n",
              "      <td>0</td>\n",
              "      <td>0</td>\n",
              "      <td>0</td>\n",
              "      <td>0</td>\n",
              "      <td>1</td>\n",
              "      <td>1</td>\n",
              "      <td>0</td>\n",
              "      <td>0</td>\n",
              "      <td>0</td>\n",
              "      <td>v</td>\n",
              "      <td>1</td>\n",
              "      <td>0</td>\n",
              "      <td>0</td>\n",
              "      <td>0</td>\n",
              "      <td>0</td>\n",
              "      <td>0</td>\n",
              "      <td>0</td>\n",
              "      <td>0</td>\n",
              "      <td>0</td>\n",
              "      <td>0</td>\n",
              "      <td>0</td>\n",
              "      <td>0</td>\n",
              "      <td>2</td>\n",
              "    </tr>\n",
              "    <tr>\n",
              "      <th>4</th>\n",
              "      <td>201944</td>\n",
              "      <td>11</td>\n",
              "      <td>131</td>\n",
              "      <td>1488</td>\n",
              "      <td>3</td>\n",
              "      <td>30</td>\n",
              "      <td>8</td>\n",
              "      <td>9</td>\n",
              "      <td>t</td>\n",
              "      <td>r</td>\n",
              "      <td>n</td>\n",
              "      <td>f</td>\n",
              "      <td>x</td>\n",
              "      <td>s</td>\n",
              "      <td>d</td>\n",
              "      <td>1</td>\n",
              "      <td>0</td>\n",
              "      <td>0</td>\n",
              "      <td>0</td>\n",
              "      <td>0</td>\n",
              "      <td>0</td>\n",
              "      <td>0</td>\n",
              "      <td>0</td>\n",
              "      <td>0</td>\n",
              "      <td>0</td>\n",
              "      <td>0</td>\n",
              "      <td>v</td>\n",
              "      <td>1</td>\n",
              "      <td>0</td>\n",
              "      <td>0</td>\n",
              "      <td>0</td>\n",
              "      <td>0</td>\n",
              "      <td>0</td>\n",
              "      <td>0</td>\n",
              "      <td>0</td>\n",
              "      <td>0</td>\n",
              "      <td>0</td>\n",
              "      <td>0</td>\n",
              "      <td>0</td>\n",
              "      <td>3</td>\n",
              "    </tr>\n",
              "  </tbody>\n",
              "</table>\n",
              "</div>"
            ],
            "text/plain": [
              "   building_id  geo_level_1_id  ...  has_secondary_use_other  damage_grade\n",
              "0       802906               6  ...                        0             3\n",
              "1        28830               8  ...                        0             2\n",
              "2        94947              21  ...                        0             3\n",
              "3       590882              22  ...                        0             2\n",
              "4       201944              11  ...                        0             3\n",
              "\n",
              "[5 rows x 40 columns]"
            ]
          },
          "metadata": {},
          "execution_count": 72
        }
      ]
    },
    {
      "cell_type": "code",
      "metadata": {
        "colab": {
          "base_uri": "https://localhost:8080/"
        },
        "id": "XNUU_UhLcS2I",
        "outputId": "f1cac041-5707-4dce-ce3d-8bd2a6caea4f"
      },
      "source": [
        "y_train.head()"
      ],
      "execution_count": null,
      "outputs": [
        {
          "output_type": "execute_result",
          "data": {
            "text/plain": [
              "0    3\n",
              "1    2\n",
              "2    3\n",
              "3    2\n",
              "4    3\n",
              "Name: damage_grade, dtype: int64"
            ]
          },
          "metadata": {},
          "execution_count": 13
        }
      ]
    },
    {
      "cell_type": "code",
      "metadata": {
        "colab": {
          "base_uri": "https://localhost:8080/",
          "height": 203
        },
        "id": "4ua94VlL7HaN",
        "outputId": "c9689362-54c7-4515-db0f-5f8cb5465607"
      },
      "source": [
        "y_test.head()"
      ],
      "execution_count": null,
      "outputs": [
        {
          "output_type": "execute_result",
          "data": {
            "text/html": [
              "<div>\n",
              "<style scoped>\n",
              "    .dataframe tbody tr th:only-of-type {\n",
              "        vertical-align: middle;\n",
              "    }\n",
              "\n",
              "    .dataframe tbody tr th {\n",
              "        vertical-align: top;\n",
              "    }\n",
              "\n",
              "    .dataframe thead th {\n",
              "        text-align: right;\n",
              "    }\n",
              "</style>\n",
              "<table border=\"1\" class=\"dataframe\">\n",
              "  <thead>\n",
              "    <tr style=\"text-align: right;\">\n",
              "      <th></th>\n",
              "      <th>building_id</th>\n",
              "      <th>damage_grade</th>\n",
              "    </tr>\n",
              "  </thead>\n",
              "  <tbody>\n",
              "    <tr>\n",
              "      <th>0</th>\n",
              "      <td>300051</td>\n",
              "      <td>1</td>\n",
              "    </tr>\n",
              "    <tr>\n",
              "      <th>1</th>\n",
              "      <td>99355</td>\n",
              "      <td>1</td>\n",
              "    </tr>\n",
              "    <tr>\n",
              "      <th>2</th>\n",
              "      <td>890251</td>\n",
              "      <td>1</td>\n",
              "    </tr>\n",
              "    <tr>\n",
              "      <th>3</th>\n",
              "      <td>745817</td>\n",
              "      <td>1</td>\n",
              "    </tr>\n",
              "    <tr>\n",
              "      <th>4</th>\n",
              "      <td>421793</td>\n",
              "      <td>1</td>\n",
              "    </tr>\n",
              "  </tbody>\n",
              "</table>\n",
              "</div>"
            ],
            "text/plain": [
              "   building_id  damage_grade\n",
              "0       300051             1\n",
              "1        99355             1\n",
              "2       890251             1\n",
              "3       745817             1\n",
              "4       421793             1"
            ]
          },
          "metadata": {},
          "execution_count": 54
        }
      ]
    },
    {
      "cell_type": "code",
      "metadata": {
        "colab": {
          "base_uri": "https://localhost:8080/",
          "height": 223
        },
        "id": "K-JMJ-_IFVGW",
        "outputId": "cb473bc6-c2b2-4f93-f417-dab88da5813e"
      },
      "source": [
        "X_train.head()"
      ],
      "execution_count": null,
      "outputs": [
        {
          "output_type": "execute_result",
          "data": {
            "text/html": [
              "<div>\n",
              "<style scoped>\n",
              "    .dataframe tbody tr th:only-of-type {\n",
              "        vertical-align: middle;\n",
              "    }\n",
              "\n",
              "    .dataframe tbody tr th {\n",
              "        vertical-align: top;\n",
              "    }\n",
              "\n",
              "    .dataframe thead th {\n",
              "        text-align: right;\n",
              "    }\n",
              "</style>\n",
              "<table border=\"1\" class=\"dataframe\">\n",
              "  <thead>\n",
              "    <tr style=\"text-align: right;\">\n",
              "      <th></th>\n",
              "      <th>building_id</th>\n",
              "      <th>geo_level_1_id</th>\n",
              "      <th>geo_level_2_id</th>\n",
              "      <th>geo_level_3_id</th>\n",
              "      <th>count_floors_pre_eq</th>\n",
              "      <th>age</th>\n",
              "      <th>area_percentage</th>\n",
              "      <th>height_percentage</th>\n",
              "      <th>land_surface_condition</th>\n",
              "      <th>foundation_type</th>\n",
              "      <th>roof_type</th>\n",
              "      <th>ground_floor_type</th>\n",
              "      <th>other_floor_type</th>\n",
              "      <th>position</th>\n",
              "      <th>plan_configuration</th>\n",
              "      <th>has_superstructure_adobe_mud</th>\n",
              "      <th>has_superstructure_mud_mortar_stone</th>\n",
              "      <th>has_superstructure_stone_flag</th>\n",
              "      <th>has_superstructure_cement_mortar_stone</th>\n",
              "      <th>has_superstructure_mud_mortar_brick</th>\n",
              "      <th>has_superstructure_cement_mortar_brick</th>\n",
              "      <th>has_superstructure_timber</th>\n",
              "      <th>has_superstructure_bamboo</th>\n",
              "      <th>has_superstructure_rc_non_engineered</th>\n",
              "      <th>has_superstructure_rc_engineered</th>\n",
              "      <th>has_superstructure_other</th>\n",
              "      <th>legal_ownership_status</th>\n",
              "      <th>count_families</th>\n",
              "      <th>has_secondary_use</th>\n",
              "      <th>has_secondary_use_agriculture</th>\n",
              "      <th>has_secondary_use_hotel</th>\n",
              "      <th>has_secondary_use_rental</th>\n",
              "      <th>has_secondary_use_institution</th>\n",
              "      <th>has_secondary_use_school</th>\n",
              "      <th>has_secondary_use_industry</th>\n",
              "      <th>has_secondary_use_health_post</th>\n",
              "      <th>has_secondary_use_gov_office</th>\n",
              "      <th>has_secondary_use_use_police</th>\n",
              "      <th>has_secondary_use_other</th>\n",
              "    </tr>\n",
              "  </thead>\n",
              "  <tbody>\n",
              "    <tr>\n",
              "      <th>0</th>\n",
              "      <td>802906</td>\n",
              "      <td>6</td>\n",
              "      <td>487</td>\n",
              "      <td>12198</td>\n",
              "      <td>2</td>\n",
              "      <td>30</td>\n",
              "      <td>6</td>\n",
              "      <td>5</td>\n",
              "      <td>t</td>\n",
              "      <td>r</td>\n",
              "      <td>n</td>\n",
              "      <td>f</td>\n",
              "      <td>q</td>\n",
              "      <td>t</td>\n",
              "      <td>d</td>\n",
              "      <td>1</td>\n",
              "      <td>1</td>\n",
              "      <td>0</td>\n",
              "      <td>0</td>\n",
              "      <td>0</td>\n",
              "      <td>0</td>\n",
              "      <td>0</td>\n",
              "      <td>0</td>\n",
              "      <td>0</td>\n",
              "      <td>0</td>\n",
              "      <td>0</td>\n",
              "      <td>v</td>\n",
              "      <td>1</td>\n",
              "      <td>0</td>\n",
              "      <td>0</td>\n",
              "      <td>0</td>\n",
              "      <td>0</td>\n",
              "      <td>0</td>\n",
              "      <td>0</td>\n",
              "      <td>0</td>\n",
              "      <td>0</td>\n",
              "      <td>0</td>\n",
              "      <td>0</td>\n",
              "      <td>0</td>\n",
              "    </tr>\n",
              "    <tr>\n",
              "      <th>1</th>\n",
              "      <td>28830</td>\n",
              "      <td>8</td>\n",
              "      <td>900</td>\n",
              "      <td>2812</td>\n",
              "      <td>2</td>\n",
              "      <td>10</td>\n",
              "      <td>8</td>\n",
              "      <td>7</td>\n",
              "      <td>o</td>\n",
              "      <td>r</td>\n",
              "      <td>n</td>\n",
              "      <td>x</td>\n",
              "      <td>q</td>\n",
              "      <td>s</td>\n",
              "      <td>d</td>\n",
              "      <td>0</td>\n",
              "      <td>1</td>\n",
              "      <td>0</td>\n",
              "      <td>0</td>\n",
              "      <td>0</td>\n",
              "      <td>0</td>\n",
              "      <td>0</td>\n",
              "      <td>0</td>\n",
              "      <td>0</td>\n",
              "      <td>0</td>\n",
              "      <td>0</td>\n",
              "      <td>v</td>\n",
              "      <td>1</td>\n",
              "      <td>0</td>\n",
              "      <td>0</td>\n",
              "      <td>0</td>\n",
              "      <td>0</td>\n",
              "      <td>0</td>\n",
              "      <td>0</td>\n",
              "      <td>0</td>\n",
              "      <td>0</td>\n",
              "      <td>0</td>\n",
              "      <td>0</td>\n",
              "      <td>0</td>\n",
              "    </tr>\n",
              "    <tr>\n",
              "      <th>2</th>\n",
              "      <td>94947</td>\n",
              "      <td>21</td>\n",
              "      <td>363</td>\n",
              "      <td>8973</td>\n",
              "      <td>2</td>\n",
              "      <td>10</td>\n",
              "      <td>5</td>\n",
              "      <td>5</td>\n",
              "      <td>t</td>\n",
              "      <td>r</td>\n",
              "      <td>n</td>\n",
              "      <td>f</td>\n",
              "      <td>x</td>\n",
              "      <td>t</td>\n",
              "      <td>d</td>\n",
              "      <td>0</td>\n",
              "      <td>1</td>\n",
              "      <td>0</td>\n",
              "      <td>0</td>\n",
              "      <td>0</td>\n",
              "      <td>0</td>\n",
              "      <td>0</td>\n",
              "      <td>0</td>\n",
              "      <td>0</td>\n",
              "      <td>0</td>\n",
              "      <td>0</td>\n",
              "      <td>v</td>\n",
              "      <td>1</td>\n",
              "      <td>0</td>\n",
              "      <td>0</td>\n",
              "      <td>0</td>\n",
              "      <td>0</td>\n",
              "      <td>0</td>\n",
              "      <td>0</td>\n",
              "      <td>0</td>\n",
              "      <td>0</td>\n",
              "      <td>0</td>\n",
              "      <td>0</td>\n",
              "      <td>0</td>\n",
              "    </tr>\n",
              "    <tr>\n",
              "      <th>3</th>\n",
              "      <td>590882</td>\n",
              "      <td>22</td>\n",
              "      <td>418</td>\n",
              "      <td>10694</td>\n",
              "      <td>2</td>\n",
              "      <td>10</td>\n",
              "      <td>6</td>\n",
              "      <td>5</td>\n",
              "      <td>t</td>\n",
              "      <td>r</td>\n",
              "      <td>n</td>\n",
              "      <td>f</td>\n",
              "      <td>x</td>\n",
              "      <td>s</td>\n",
              "      <td>d</td>\n",
              "      <td>0</td>\n",
              "      <td>1</td>\n",
              "      <td>0</td>\n",
              "      <td>0</td>\n",
              "      <td>0</td>\n",
              "      <td>0</td>\n",
              "      <td>1</td>\n",
              "      <td>1</td>\n",
              "      <td>0</td>\n",
              "      <td>0</td>\n",
              "      <td>0</td>\n",
              "      <td>v</td>\n",
              "      <td>1</td>\n",
              "      <td>0</td>\n",
              "      <td>0</td>\n",
              "      <td>0</td>\n",
              "      <td>0</td>\n",
              "      <td>0</td>\n",
              "      <td>0</td>\n",
              "      <td>0</td>\n",
              "      <td>0</td>\n",
              "      <td>0</td>\n",
              "      <td>0</td>\n",
              "      <td>0</td>\n",
              "    </tr>\n",
              "    <tr>\n",
              "      <th>4</th>\n",
              "      <td>201944</td>\n",
              "      <td>11</td>\n",
              "      <td>131</td>\n",
              "      <td>1488</td>\n",
              "      <td>3</td>\n",
              "      <td>30</td>\n",
              "      <td>8</td>\n",
              "      <td>9</td>\n",
              "      <td>t</td>\n",
              "      <td>r</td>\n",
              "      <td>n</td>\n",
              "      <td>f</td>\n",
              "      <td>x</td>\n",
              "      <td>s</td>\n",
              "      <td>d</td>\n",
              "      <td>1</td>\n",
              "      <td>0</td>\n",
              "      <td>0</td>\n",
              "      <td>0</td>\n",
              "      <td>0</td>\n",
              "      <td>0</td>\n",
              "      <td>0</td>\n",
              "      <td>0</td>\n",
              "      <td>0</td>\n",
              "      <td>0</td>\n",
              "      <td>0</td>\n",
              "      <td>v</td>\n",
              "      <td>1</td>\n",
              "      <td>0</td>\n",
              "      <td>0</td>\n",
              "      <td>0</td>\n",
              "      <td>0</td>\n",
              "      <td>0</td>\n",
              "      <td>0</td>\n",
              "      <td>0</td>\n",
              "      <td>0</td>\n",
              "      <td>0</td>\n",
              "      <td>0</td>\n",
              "      <td>0</td>\n",
              "    </tr>\n",
              "  </tbody>\n",
              "</table>\n",
              "</div>"
            ],
            "text/plain": [
              "   building_id  ...  has_secondary_use_other\n",
              "0       802906  ...                        0\n",
              "1        28830  ...                        0\n",
              "2        94947  ...                        0\n",
              "3       590882  ...                        0\n",
              "4       201944  ...                        0\n",
              "\n",
              "[5 rows x 39 columns]"
            ]
          },
          "metadata": {},
          "execution_count": 14
        }
      ]
    },
    {
      "cell_type": "code",
      "metadata": {
        "colab": {
          "base_uri": "https://localhost:8080/"
        },
        "id": "CUbNeiAZFezB",
        "outputId": "6f8fa55a-2119-4563-99d1-5cb6f719ece7"
      },
      "source": [
        "X_train.shape"
      ],
      "execution_count": null,
      "outputs": [
        {
          "output_type": "execute_result",
          "data": {
            "text/plain": [
              "(260601, 39)"
            ]
          },
          "metadata": {},
          "execution_count": 14
        }
      ]
    },
    {
      "cell_type": "code",
      "metadata": {
        "colab": {
          "base_uri": "https://localhost:8080/"
        },
        "id": "tyLGiwv_FpOi",
        "outputId": "c1bfe99b-9c10-4315-84c9-4961d3a91dd8"
      },
      "source": [
        "y_train.shape"
      ],
      "execution_count": null,
      "outputs": [
        {
          "output_type": "execute_result",
          "data": {
            "text/plain": [
              "(260601,)"
            ]
          },
          "metadata": {},
          "execution_count": 15
        }
      ]
    },
    {
      "cell_type": "code",
      "metadata": {
        "colab": {
          "base_uri": "https://localhost:8080/"
        },
        "id": "Fn6Q8XqKH6vR",
        "outputId": "156bf5ea-dbb6-4748-a0d3-b9bda988fcaa"
      },
      "source": [
        "X_train.info()"
      ],
      "execution_count": null,
      "outputs": [
        {
          "output_type": "stream",
          "name": "stdout",
          "text": [
            "<class 'pandas.core.frame.DataFrame'>\n",
            "RangeIndex: 260601 entries, 0 to 260600\n",
            "Data columns (total 39 columns):\n",
            " #   Column                                  Non-Null Count   Dtype \n",
            "---  ------                                  --------------   ----- \n",
            " 0   building_id                             260601 non-null  int64 \n",
            " 1   geo_level_1_id                          260601 non-null  int64 \n",
            " 2   geo_level_2_id                          260601 non-null  int64 \n",
            " 3   geo_level_3_id                          260601 non-null  int64 \n",
            " 4   count_floors_pre_eq                     260601 non-null  int64 \n",
            " 5   age                                     260601 non-null  int64 \n",
            " 6   area_percentage                         260601 non-null  int64 \n",
            " 7   height_percentage                       260601 non-null  int64 \n",
            " 8   land_surface_condition                  260601 non-null  object\n",
            " 9   foundation_type                         260601 non-null  object\n",
            " 10  roof_type                               260601 non-null  object\n",
            " 11  ground_floor_type                       260601 non-null  object\n",
            " 12  other_floor_type                        260601 non-null  object\n",
            " 13  position                                260601 non-null  object\n",
            " 14  plan_configuration                      260601 non-null  object\n",
            " 15  has_superstructure_adobe_mud            260601 non-null  int64 \n",
            " 16  has_superstructure_mud_mortar_stone     260601 non-null  int64 \n",
            " 17  has_superstructure_stone_flag           260601 non-null  int64 \n",
            " 18  has_superstructure_cement_mortar_stone  260601 non-null  int64 \n",
            " 19  has_superstructure_mud_mortar_brick     260601 non-null  int64 \n",
            " 20  has_superstructure_cement_mortar_brick  260601 non-null  int64 \n",
            " 21  has_superstructure_timber               260601 non-null  int64 \n",
            " 22  has_superstructure_bamboo               260601 non-null  int64 \n",
            " 23  has_superstructure_rc_non_engineered    260601 non-null  int64 \n",
            " 24  has_superstructure_rc_engineered        260601 non-null  int64 \n",
            " 25  has_superstructure_other                260601 non-null  int64 \n",
            " 26  legal_ownership_status                  260601 non-null  object\n",
            " 27  count_families                          260601 non-null  int64 \n",
            " 28  has_secondary_use                       260601 non-null  int64 \n",
            " 29  has_secondary_use_agriculture           260601 non-null  int64 \n",
            " 30  has_secondary_use_hotel                 260601 non-null  int64 \n",
            " 31  has_secondary_use_rental                260601 non-null  int64 \n",
            " 32  has_secondary_use_institution           260601 non-null  int64 \n",
            " 33  has_secondary_use_school                260601 non-null  int64 \n",
            " 34  has_secondary_use_industry              260601 non-null  int64 \n",
            " 35  has_secondary_use_health_post           260601 non-null  int64 \n",
            " 36  has_secondary_use_gov_office            260601 non-null  int64 \n",
            " 37  has_secondary_use_use_police            260601 non-null  int64 \n",
            " 38  has_secondary_use_other                 260601 non-null  int64 \n",
            "dtypes: int64(31), object(8)\n",
            "memory usage: 77.5+ MB\n"
          ]
        }
      ]
    },
    {
      "cell_type": "code",
      "metadata": {
        "colab": {
          "base_uri": "https://localhost:8080/"
        },
        "id": "FTnxGg9dH4FT",
        "outputId": "077b10cd-4524-431a-80e1-527118ad55f2"
      },
      "source": [
        "#check missing values\n",
        "X_train.isnull().sum()"
      ],
      "execution_count": null,
      "outputs": [
        {
          "output_type": "execute_result",
          "data": {
            "text/plain": [
              "building_id                               0\n",
              "geo_level_1_id                            0\n",
              "geo_level_2_id                            0\n",
              "geo_level_3_id                            0\n",
              "count_floors_pre_eq                       0\n",
              "age                                       0\n",
              "area_percentage                           0\n",
              "height_percentage                         0\n",
              "land_surface_condition                    0\n",
              "foundation_type                           0\n",
              "roof_type                                 0\n",
              "ground_floor_type                         0\n",
              "other_floor_type                          0\n",
              "position                                  0\n",
              "plan_configuration                        0\n",
              "has_superstructure_adobe_mud              0\n",
              "has_superstructure_mud_mortar_stone       0\n",
              "has_superstructure_stone_flag             0\n",
              "has_superstructure_cement_mortar_stone    0\n",
              "has_superstructure_mud_mortar_brick       0\n",
              "has_superstructure_cement_mortar_brick    0\n",
              "has_superstructure_timber                 0\n",
              "has_superstructure_bamboo                 0\n",
              "has_superstructure_rc_non_engineered      0\n",
              "has_superstructure_rc_engineered          0\n",
              "has_superstructure_other                  0\n",
              "legal_ownership_status                    0\n",
              "count_families                            0\n",
              "has_secondary_use                         0\n",
              "has_secondary_use_agriculture             0\n",
              "has_secondary_use_hotel                   0\n",
              "has_secondary_use_rental                  0\n",
              "has_secondary_use_institution             0\n",
              "has_secondary_use_school                  0\n",
              "has_secondary_use_industry                0\n",
              "has_secondary_use_health_post             0\n",
              "has_secondary_use_gov_office              0\n",
              "has_secondary_use_use_police              0\n",
              "has_secondary_use_other                   0\n",
              "dtype: int64"
            ]
          },
          "metadata": {},
          "execution_count": 17
        }
      ]
    },
    {
      "cell_type": "code",
      "metadata": {
        "colab": {
          "base_uri": "https://localhost:8080/",
          "height": 282
        },
        "id": "1cZRiYq5IRta",
        "outputId": "dbbd90f6-3b30-4328-b382-7316f5a9fa83"
      },
      "source": [
        "#check Y variable \n",
        "y_train.hist()"
      ],
      "execution_count": null,
      "outputs": [
        {
          "output_type": "execute_result",
          "data": {
            "text/plain": [
              "<matplotlib.axes._subplots.AxesSubplot at 0x7f468261e910>"
            ]
          },
          "metadata": {},
          "execution_count": 18
        },
        {
          "output_type": "display_data",
          "data": {
            "image/png": "[encoded data removed]",
            "text/plain": [
              "<Figure size 432x288 with 1 Axes>"
            ]
          },
          "metadata": {
            "needs_background": "light"
          }
        }
      ]
    },
    {
      "cell_type": "code",
      "metadata": {
        "colab": {
          "base_uri": "https://localhost:8080/"
        },
        "id": "Wao9ZHkvWQ1E",
        "outputId": "d80328dd-109f-4605-c792-c1187d25d5f4"
      },
      "source": [
        "X_train['age']"
      ],
      "execution_count": null,
      "outputs": [
        {
          "output_type": "execute_result",
          "data": {
            "text/plain": [
              "10     38896\n",
              "15     36010\n",
              "5      33697\n",
              "20     32182\n",
              "0      26041\n",
              "25     24366\n",
              "30     18028\n",
              "35     10710\n",
              "40     10559\n",
              "50      7257\n",
              "45      4711\n",
              "60      3612\n",
              "80      3055\n",
              "55      2033\n",
              "70      1975\n",
              "995     1390\n",
              "100     1364\n",
              "65      1123\n",
              "90      1085\n",
              "85       847\n",
              "75       512\n",
              "95       414\n",
              "120      180\n",
              "150      142\n",
              "200      106\n",
              "110      100\n",
              "105       89\n",
              "125       37\n",
              "115       21\n",
              "140        9\n",
              "130        9\n",
              "180        7\n",
              "160        6\n",
              "170        6\n",
              "175        5\n",
              "135        5\n",
              "145        3\n",
              "190        3\n",
              "195        2\n",
              "165        2\n",
              "155        1\n",
              "185        1\n",
              "Name: age, dtype: int64"
            ]
          },
          "metadata": {},
          "execution_count": 23
        }
      ]
    },
    {
      "cell_type": "code",
      "metadata": {
        "id": "cIv8un19WztT"
      },
      "source": [
        "#Deal with Outlier and transform Age\n",
        "X_train.loc[X_train['age']>50, 'age'] = 50"
      ],
      "execution_count": null,
      "outputs": []
    },
    {
      "cell_type": "code",
      "metadata": {
        "id": "Ifr5v2zK-WxG"
      },
      "source": [
        "#Same for Test\n",
        "X_test.loc[X_test['age']>50, 'age'] = 50"
      ],
      "execution_count": null,
      "outputs": []
    },
    {
      "cell_type": "code",
      "metadata": {
        "colab": {
          "base_uri": "https://localhost:8080/",
          "height": 282
        },
        "id": "nfaldVAKkv1I",
        "outputId": "cc44b544-8af2-4f51-efdd-2884d894808b"
      },
      "source": [
        "X_train['age'].hist()"
      ],
      "execution_count": null,
      "outputs": [
        {
          "output_type": "execute_result",
          "data": {
            "text/plain": [
              "<matplotlib.axes._subplots.AxesSubplot at 0x7f467c542f90>"
            ]
          },
          "metadata": {},
          "execution_count": 34
        },
        {
          "output_type": "display_data",
          "data": {
            "image/png": "[encoded data removed]",
            "text/plain": [
              "<Figure size 432x288 with 1 Axes>"
            ]
          },
          "metadata": {
            "needs_background": "light"
          }
        }
      ]
    },
    {
      "cell_type": "code",
      "metadata": {
        "colab": {
          "base_uri": "https://localhost:8080/",
          "height": 742
        },
        "id": "G2mJo6XtIpxN",
        "outputId": "1ff18656-0761-41b4-fb5a-f4b2d9243b1a"
      },
      "source": [
        "#correlation matrix\n",
        "#Found count_floors_pre_eq & height_percentage\n",
        "corrmat = X_train.corr()\n",
        "f, ax = plt.subplots(figsize=(12, 9))\n",
        "sns.heatmap(corrmat, vmax=.8, square=True);"
      ],
      "execution_count": null,
      "outputs": [
        {
          "output_type": "display_data",
          "data": {
            "image/png": "[encoded data removed]",
            "text/plain": [
              "<Figure size 864x648 with 2 Axes>"
            ]
          },
          "metadata": {
            "needs_background": "light"
          }
        }
      ]
    },
    {
      "cell_type": "code",
      "metadata": {
        "colab": {
          "base_uri": "https://localhost:8080/"
        },
        "id": "xYUYqrfMI1zg",
        "outputId": "0d60d1fa-977b-4757-c50d-38a301bdacf6"
      },
      "source": [
        "#Explore categorical Variables\n",
        "X_train['foundation_type'].value_counts()"
      ],
      "execution_count": null,
      "outputs": [
        {
          "output_type": "execute_result",
          "data": {
            "text/plain": [
              "r    219196\n",
              "w     15118\n",
              "u     14260\n",
              "i     10579\n",
              "h      1448\n",
              "Name: foundation_type, dtype: int64"
            ]
          },
          "metadata": {},
          "execution_count": 35
        }
      ]
    },
    {
      "cell_type": "code",
      "metadata": {
        "colab": {
          "base_uri": "https://localhost:8080/"
        },
        "id": "3E0Yv0SbJ9ny",
        "outputId": "f291cb43-15a9-468c-d9f7-ed13cb8ff218"
      },
      "source": [
        "#High Cardinality categorical value\n",
        "X_train['plan_configuration'].value_counts()"
      ],
      "execution_count": null,
      "outputs": [
        {
          "output_type": "execute_result",
          "data": {
            "text/plain": [
              "d    250072\n",
              "q      5692\n",
              "u      3649\n",
              "s       346\n",
              "c       325\n",
              "a       252\n",
              "o       159\n",
              "m        46\n",
              "n        38\n",
              "f        22\n",
              "Name: plan_configuration, dtype: int64"
            ]
          },
          "metadata": {},
          "execution_count": 36
        }
      ]
    },
    {
      "cell_type": "code",
      "metadata": {
        "colab": {
          "base_uri": "https://localhost:8080/"
        },
        "id": "7j7VTkMcMHXA",
        "outputId": "9b0841f6-59ed-4b84-bd19-020c8565cc76"
      },
      "source": [
        "X_train['legal_ownership_status'].value_counts()"
      ],
      "execution_count": null,
      "outputs": [
        {
          "output_type": "execute_result",
          "data": {
            "text/plain": [
              "v    250939\n",
              "a      5512\n",
              "w      2677\n",
              "r      1473\n",
              "Name: legal_ownership_status, dtype: int64"
            ]
          },
          "metadata": {},
          "execution_count": 37
        }
      ]
    },
    {
      "cell_type": "code",
      "metadata": {
        "id": "KC6E3VlyMfs9"
      },
      "source": [
        "#Feature Engineer - Re-lebel plan_config\n",
        "from collections import Counter\n",
        "def cumulatively_categorise(column,threshold=0.96,return_categories_list=True):\n",
        "  #Find the threshold value using the percentage and number of instances in the column\n",
        "  threshold_value=int(threshold*len(column))\n",
        "  #Initialise an empty list for our new minimised categories\n",
        "  categories_list=[]\n",
        "  #Initialise a variable to calculate the sum of frequencies\n",
        "  s=0\n",
        "  #Create a counter dictionary of the form unique_value: frequency\n",
        "  counts=Counter(column)\n",
        "\n",
        "  #Loop through the category name and its corresponding frequency after sorting the categories by descending order of frequency\n",
        "  for i,j in counts.most_common():\n",
        "    #Add the frequency to the sum\n",
        "    s+=dict(counts)[i]\n",
        "    #Append the category name to the list\n",
        "    categories_list.append(i)\n",
        "    #Check if the sum has reached the threshold value, if so break the loop\n",
        "    if s>=threshold_value:\n",
        "      break\n",
        "  \n",
        "  categories_list.append('Other')\n",
        "\n",
        "  #Replace all instances not in our new categories by Other  \n",
        "  new_column=column.apply(lambda x: x if x in categories_list else 'Other')\n",
        "\n",
        "  #Return transformed column and unique values if return_categories=True\n",
        "  if(return_categories_list):\n",
        "    return new_column,categories_list\n",
        "  #Return only the transformed column if return_categories=False\n",
        "  else:\n",
        "    return new_column\n",
        "\n",
        "#Call the function with a default threshold of 96%\n",
        "plan_configuration_new,new_plan_list=cumulatively_categorise(X_train['plan_configuration'],return_categories_list=True)\n"
      ],
      "execution_count": null,
      "outputs": []
    },
    {
      "cell_type": "code",
      "metadata": {
        "colab": {
          "base_uri": "https://localhost:8080/"
        },
        "id": "S2rMEDtmNFwO",
        "outputId": "63f5653d-57ee-490a-bf5c-d103dd62607a"
      },
      "source": [
        "plan_configuration_new.value_counts()"
      ],
      "execution_count": null,
      "outputs": [
        {
          "output_type": "execute_result",
          "data": {
            "text/plain": [
              "d        250072\n",
              "q          5692\n",
              "Other      4837\n",
              "Name: plan_configuration, dtype: int64"
            ]
          },
          "metadata": {},
          "execution_count": 39
        }
      ]
    },
    {
      "cell_type": "code",
      "metadata": {
        "colab": {
          "base_uri": "https://localhost:8080/"
        },
        "id": "FEwEgWmnrsVo",
        "outputId": "f6aeed49-5130-4df3-ae59-75ea80f71af2"
      },
      "source": [
        "X_train['legal_ownership_status'].unique()"
      ],
      "execution_count": null,
      "outputs": [
        {
          "output_type": "execute_result",
          "data": {
            "text/plain": [
              "array(['v', 'a', 'r', 'w'], dtype=object)"
            ]
          },
          "metadata": {},
          "execution_count": 40
        }
      ]
    },
    {
      "cell_type": "code",
      "metadata": {
        "id": "YmWIK9H1PoUl"
      },
      "source": [
        "#Same for X_test\n",
        "plan_configuration_new_test,new_plan_test_list=cumulatively_categorise(X_test['plan_configuration'],return_categories_list=True)"
      ],
      "execution_count": null,
      "outputs": []
    },
    {
      "cell_type": "code",
      "metadata": {
        "id": "TiIJitErNLeG"
      },
      "source": [
        "#Modify the existing feature\n",
        "X_train.loc[:,'plan_configuration'] = plan_configuration_new"
      ],
      "execution_count": null,
      "outputs": []
    },
    {
      "cell_type": "code",
      "metadata": {
        "id": "oDqlpN18QAmu"
      },
      "source": [
        "#Modify the existing feature for X_test\n",
        "X_test.loc[:,'plan_configuration'] = plan_configuration_new_test"
      ],
      "execution_count": null,
      "outputs": []
    },
    {
      "cell_type": "code",
      "metadata": {
        "colab": {
          "base_uri": "https://localhost:8080/"
        },
        "id": "eWLzUV5ZQE4v",
        "outputId": "89ee7a27-787a-4e11-d7ca-cf22e4991ff1"
      },
      "source": [
        "#pipleline 1 - Select this one\n",
        "numeric_features = ['count_floors_pre_eq','age','area_percentage','height_percentage','count_families']\n",
        "\n",
        "categorical_features = ['land_surface_condition','foundation_type','roof_type','ground_floor_type','other_floor_type','position','plan_configuration','legal_ownership_status',\n",
        "                        'geo_level_1_id','geo_level_2_id','geo_level_3_id']\n",
        "\n",
        "drop_features = ['building_id','height_percentage']\n",
        "\n",
        "clf = lgb.LGBMClassifier(is_unbalance=True)\n",
        "\n",
        "numeric_transformer = Pipeline(steps=[\n",
        "    ('scaler', StandardScaler()),\n",
        "    ])\n",
        "\n",
        "categorical_transformer = Pipeline(steps=[\n",
        "      ('encoder', TargetEncoder(handle_unknown='ignore')),\n",
        "      ])\n",
        "\n",
        "preprocessor1 = Pipeline(steps=[\n",
        "      ('ct', ColumnTransformer(\n",
        "        transformers=[\n",
        "            ('num', numeric_transformer, numeric_features),\n",
        "            ('cat', categorical_transformer, categorical_features),\n",
        "            ('drop', 'drop', drop_features)],\n",
        "            remainder = 'passthrough', \n",
        "            sparse_threshold=0)),\n",
        "      ('feature_selector', SelectKBest(k=35)),\n",
        "    ])\n",
        "\n",
        "pipe1 = Pipeline(steps=[('preprocessor', preprocessor1),  ('clf', clf)])\n",
        "\n",
        "params = {\"clf__n_estimators\": randint(100,300),\n",
        "          \"clf__max_depth\": randint (3, 12),\n",
        "          \"clf__num_leaves\": randint(20,3000),\n",
        "          \"clf__min_data_in_leaf\": randint(20,500), \n",
        "          \"clf__learning_rate\": uniform(0.01,0.35),\n",
        "          \"clf__feature_fraction\": uniform(0, 1),\n",
        "          \"clf__max_bin\": randint(50,255),\n",
        "          \"clf__reg_alpha\":uniform(0.001,1.000),\n",
        "          \"clf__colsample_bytree\":uniform(0.001,1.000),\n",
        "          \"clf__reg_lambda\":uniform(0.001,1.000)}\n",
        "\n",
        "\n",
        "search = RandomizedSearchCV(pipe1, param_distributions=params, n_iter=10, scoring='f1_micro', cv=5, verbose=1)\n",
        "search = search.fit(X_train, y_train)"
      ],
      "execution_count": null,
      "outputs": [
        {
          "output_type": "stream",
          "name": "stdout",
          "text": [
            "Fitting 5 folds for each of 10 candidates, totalling 50 fits\n",
            "[LightGBM] [Warning] feature_fraction is set=0.29989793731592473, colsample_bytree=0.9225693261778779 will be ignored. Current value: feature_fraction=0.29989793731592473\n",
            "[LightGBM] [Warning] min_data_in_leaf is set=359, min_child_samples=20 will be ignored. Current value: min_data_in_leaf=359\n",
            "[LightGBM] [Warning] feature_fraction is set=0.29989793731592473, colsample_bytree=0.9225693261778779 will be ignored. Current value: feature_fraction=0.29989793731592473\n",
            "[LightGBM] [Warning] min_data_in_leaf is set=359, min_child_samples=20 will be ignored. Current value: min_data_in_leaf=359\n",
            "[LightGBM] [Warning] feature_fraction is set=0.29989793731592473, colsample_bytree=0.9225693261778779 will be ignored. Current value: feature_fraction=0.29989793731592473\n",
            "[LightGBM] [Warning] min_data_in_leaf is set=359, min_child_samples=20 will be ignored. Current value: min_data_in_leaf=359\n",
            "[LightGBM] [Warning] feature_fraction is set=0.29989793731592473, colsample_bytree=0.9225693261778779 will be ignored. Current value: feature_fraction=0.29989793731592473\n",
            "[LightGBM] [Warning] min_data_in_leaf is set=359, min_child_samples=20 will be ignored. Current value: min_data_in_leaf=359\n",
            "[LightGBM] [Warning] feature_fraction is set=0.29989793731592473, colsample_bytree=0.9225693261778779 will be ignored. Current value: feature_fraction=0.29989793731592473\n",
            "[LightGBM] [Warning] min_data_in_leaf is set=359, min_child_samples=20 will be ignored. Current value: min_data_in_leaf=359\n",
            "[LightGBM] [Warning] feature_fraction is set=0.5267465065304764, colsample_bytree=0.38301810866076036 will be ignored. Current value: feature_fraction=0.5267465065304764\n",
            "[LightGBM] [Warning] min_data_in_leaf is set=435, min_child_samples=20 will be ignored. Current value: min_data_in_leaf=435\n",
            "[LightGBM] [Warning] feature_fraction is set=0.5267465065304764, colsample_bytree=0.38301810866076036 will be ignored. Current value: feature_fraction=0.5267465065304764\n",
            "[LightGBM] [Warning] min_data_in_leaf is set=435, min_child_samples=20 will be ignored. Current value: min_data_in_leaf=435\n",
            "[LightGBM] [Warning] feature_fraction is set=0.5267465065304764, colsample_bytree=0.38301810866076036 will be ignored. Current value: feature_fraction=0.5267465065304764\n",
            "[LightGBM] [Warning] min_data_in_leaf is set=435, min_child_samples=20 will be ignored. Current value: min_data_in_leaf=435\n",
            "[LightGBM] [Warning] feature_fraction is set=0.5267465065304764, colsample_bytree=0.38301810866076036 will be ignored. Current value: feature_fraction=0.5267465065304764\n",
            "[LightGBM] [Warning] min_data_in_leaf is set=435, min_child_samples=20 will be ignored. Current value: min_data_in_leaf=435\n",
            "[LightGBM] [Warning] feature_fraction is set=0.5267465065304764, colsample_bytree=0.38301810866076036 will be ignored. Current value: feature_fraction=0.5267465065304764\n",
            "[LightGBM] [Warning] min_data_in_leaf is set=435, min_child_samples=20 will be ignored. Current value: min_data_in_leaf=435\n",
            "[LightGBM] [Warning] feature_fraction is set=0.764785075848136, colsample_bytree=0.5226537545534508 will be ignored. Current value: feature_fraction=0.764785075848136\n",
            "[LightGBM] [Warning] min_data_in_leaf is set=265, min_child_samples=20 will be ignored. Current value: min_data_in_leaf=265\n",
            "[LightGBM] [Warning] feature_fraction is set=0.764785075848136, colsample_bytree=0.5226537545534508 will be ignored. Current value: feature_fraction=0.764785075848136\n",
            "[LightGBM] [Warning] min_data_in_leaf is set=265, min_child_samples=20 will be ignored. Current value: min_data_in_leaf=265\n",
            "[LightGBM] [Warning] feature_fraction is set=0.764785075848136, colsample_bytree=0.5226537545534508 will be ignored. Current value: feature_fraction=0.764785075848136\n",
            "[LightGBM] [Warning] min_data_in_leaf is set=265, min_child_samples=20 will be ignored. Current value: min_data_in_leaf=265\n",
            "[LightGBM] [Warning] feature_fraction is set=0.764785075848136, colsample_bytree=0.5226537545534508 will be ignored. Current value: feature_fraction=0.764785075848136\n",
            "[LightGBM] [Warning] min_data_in_leaf is set=265, min_child_samples=20 will be ignored. Current value: min_data_in_leaf=265\n",
            "[LightGBM] [Warning] feature_fraction is set=0.764785075848136, colsample_bytree=0.5226537545534508 will be ignored. Current value: feature_fraction=0.764785075848136\n",
            "[LightGBM] [Warning] min_data_in_leaf is set=265, min_child_samples=20 will be ignored. Current value: min_data_in_leaf=265\n",
            "[LightGBM] [Warning] feature_fraction is set=0.5110389591939115, colsample_bytree=0.5530312282025244 will be ignored. Current value: feature_fraction=0.5110389591939115\n",
            "[LightGBM] [Warning] min_data_in_leaf is set=142, min_child_samples=20 will be ignored. Current value: min_data_in_leaf=142\n",
            "[LightGBM] [Warning] feature_fraction is set=0.5110389591939115, colsample_bytree=0.5530312282025244 will be ignored. Current value: feature_fraction=0.5110389591939115\n",
            "[LightGBM] [Warning] min_data_in_leaf is set=142, min_child_samples=20 will be ignored. Current value: min_data_in_leaf=142\n",
            "[LightGBM] [Warning] feature_fraction is set=0.5110389591939115, colsample_bytree=0.5530312282025244 will be ignored. Current value: feature_fraction=0.5110389591939115\n",
            "[LightGBM] [Warning] min_data_in_leaf is set=142, min_child_samples=20 will be ignored. Current value: min_data_in_leaf=142\n",
            "[LightGBM] [Warning] feature_fraction is set=0.5110389591939115, colsample_bytree=0.5530312282025244 will be ignored. Current value: feature_fraction=0.5110389591939115\n",
            "[LightGBM] [Warning] min_data_in_leaf is set=142, min_child_samples=20 will be ignored. Current value: min_data_in_leaf=142\n",
            "[LightGBM] [Warning] feature_fraction is set=0.5110389591939115, colsample_bytree=0.5530312282025244 will be ignored. Current value: feature_fraction=0.5110389591939115\n",
            "[LightGBM] [Warning] min_data_in_leaf is set=142, min_child_samples=20 will be ignored. Current value: min_data_in_leaf=142\n",
            "[LightGBM] [Warning] feature_fraction is set=0.05137975997038324, colsample_bytree=0.8165371301590344 will be ignored. Current value: feature_fraction=0.05137975997038324\n",
            "[LightGBM] [Warning] min_data_in_leaf is set=192, min_child_samples=20 will be ignored. Current value: min_data_in_leaf=192\n",
            "[LightGBM] [Warning] feature_fraction is set=0.05137975997038324, colsample_bytree=0.8165371301590344 will be ignored. Current value: feature_fraction=0.05137975997038324\n",
            "[LightGBM] [Warning] min_data_in_leaf is set=192, min_child_samples=20 will be ignored. Current value: min_data_in_leaf=192\n",
            "[LightGBM] [Warning] feature_fraction is set=0.05137975997038324, colsample_bytree=0.8165371301590344 will be ignored. Current value: feature_fraction=0.05137975997038324\n",
            "[LightGBM] [Warning] min_data_in_leaf is set=192, min_child_samples=20 will be ignored. Current value: min_data_in_leaf=192\n",
            "[LightGBM] [Warning] feature_fraction is set=0.05137975997038324, colsample_bytree=0.8165371301590344 will be ignored. Current value: feature_fraction=0.05137975997038324\n",
            "[LightGBM] [Warning] min_data_in_leaf is set=192, min_child_samples=20 will be ignored. Current value: min_data_in_leaf=192\n",
            "[LightGBM] [Warning] feature_fraction is set=0.05137975997038324, colsample_bytree=0.8165371301590344 will be ignored. Current value: feature_fraction=0.05137975997038324\n",
            "[LightGBM] [Warning] min_data_in_leaf is set=192, min_child_samples=20 will be ignored. Current value: min_data_in_leaf=192\n",
            "[LightGBM] [Warning] feature_fraction is set=0.461597494817354, colsample_bytree=0.49427902583547345 will be ignored. Current value: feature_fraction=0.461597494817354\n",
            "[LightGBM] [Warning] min_data_in_leaf is set=168, min_child_samples=20 will be ignored. Current value: min_data_in_leaf=168\n",
            "[LightGBM] [Warning] feature_fraction is set=0.461597494817354, colsample_bytree=0.49427902583547345 will be ignored. Current value: feature_fraction=0.461597494817354\n",
            "[LightGBM] [Warning] min_data_in_leaf is set=168, min_child_samples=20 will be ignored. Current value: min_data_in_leaf=168\n",
            "[LightGBM] [Warning] feature_fraction is set=0.461597494817354, colsample_bytree=0.49427902583547345 will be ignored. Current value: feature_fraction=0.461597494817354\n",
            "[LightGBM] [Warning] min_data_in_leaf is set=168, min_child_samples=20 will be ignored. Current value: min_data_in_leaf=168\n",
            "[LightGBM] [Warning] feature_fraction is set=0.461597494817354, colsample_bytree=0.49427902583547345 will be ignored. Current value: feature_fraction=0.461597494817354\n",
            "[LightGBM] [Warning] min_data_in_leaf is set=168, min_child_samples=20 will be ignored. Current value: min_data_in_leaf=168\n",
            "[LightGBM] [Warning] feature_fraction is set=0.461597494817354, colsample_bytree=0.49427902583547345 will be ignored. Current value: feature_fraction=0.461597494817354\n",
            "[LightGBM] [Warning] min_data_in_leaf is set=168, min_child_samples=20 will be ignored. Current value: min_data_in_leaf=168\n",
            "[LightGBM] [Warning] feature_fraction is set=0.8668454641181136, colsample_bytree=0.8058126388185841 will be ignored. Current value: feature_fraction=0.8668454641181136\n",
            "[LightGBM] [Warning] min_data_in_leaf is set=235, min_child_samples=20 will be ignored. Current value: min_data_in_leaf=235\n",
            "[LightGBM] [Warning] feature_fraction is set=0.8668454641181136, colsample_bytree=0.8058126388185841 will be ignored. Current value: feature_fraction=0.8668454641181136\n",
            "[LightGBM] [Warning] min_data_in_leaf is set=235, min_child_samples=20 will be ignored. Current value: min_data_in_leaf=235\n",
            "[LightGBM] [Warning] feature_fraction is set=0.8668454641181136, colsample_bytree=0.8058126388185841 will be ignored. Current value: feature_fraction=0.8668454641181136\n",
            "[LightGBM] [Warning] min_data_in_leaf is set=235, min_child_samples=20 will be ignored. Current value: min_data_in_leaf=235\n",
            "[LightGBM] [Warning] feature_fraction is set=0.8668454641181136, colsample_bytree=0.8058126388185841 will be ignored. Current value: feature_fraction=0.8668454641181136\n",
            "[LightGBM] [Warning] min_data_in_leaf is set=235, min_child_samples=20 will be ignored. Current value: min_data_in_leaf=235\n",
            "[LightGBM] [Warning] feature_fraction is set=0.8668454641181136, colsample_bytree=0.8058126388185841 will be ignored. Current value: feature_fraction=0.8668454641181136\n",
            "[LightGBM] [Warning] min_data_in_leaf is set=235, min_child_samples=20 will be ignored. Current value: min_data_in_leaf=235\n",
            "[LightGBM] [Warning] feature_fraction is set=0.9388793827687074, colsample_bytree=0.5317589490236723 will be ignored. Current value: feature_fraction=0.9388793827687074\n",
            "[LightGBM] [Warning] min_data_in_leaf is set=114, min_child_samples=20 will be ignored. Current value: min_data_in_leaf=114\n",
            "[LightGBM] [Warning] feature_fraction is set=0.9388793827687074, colsample_bytree=0.5317589490236723 will be ignored. Current value: feature_fraction=0.9388793827687074\n",
            "[LightGBM] [Warning] min_data_in_leaf is set=114, min_child_samples=20 will be ignored. Current value: min_data_in_leaf=114\n",
            "[LightGBM] [Warning] feature_fraction is set=0.9388793827687074, colsample_bytree=0.5317589490236723 will be ignored. Current value: feature_fraction=0.9388793827687074\n",
            "[LightGBM] [Warning] min_data_in_leaf is set=114, min_child_samples=20 will be ignored. Current value: min_data_in_leaf=114\n",
            "[LightGBM] [Warning] feature_fraction is set=0.9388793827687074, colsample_bytree=0.5317589490236723 will be ignored. Current value: feature_fraction=0.9388793827687074\n",
            "[LightGBM] [Warning] min_data_in_leaf is set=114, min_child_samples=20 will be ignored. Current value: min_data_in_leaf=114\n",
            "[LightGBM] [Warning] feature_fraction is set=0.9388793827687074, colsample_bytree=0.5317589490236723 will be ignored. Current value: feature_fraction=0.9388793827687074\n",
            "[LightGBM] [Warning] min_data_in_leaf is set=114, min_child_samples=20 will be ignored. Current value: min_data_in_leaf=114\n",
            "[LightGBM] [Warning] feature_fraction is set=0.7909229015101968, colsample_bytree=0.9348504499412496 will be ignored. Current value: feature_fraction=0.7909229015101968\n",
            "[LightGBM] [Warning] min_data_in_leaf is set=342, min_child_samples=20 will be ignored. Current value: min_data_in_leaf=342\n",
            "[LightGBM] [Warning] feature_fraction is set=0.7909229015101968, colsample_bytree=0.9348504499412496 will be ignored. Current value: feature_fraction=0.7909229015101968\n",
            "[LightGBM] [Warning] min_data_in_leaf is set=342, min_child_samples=20 will be ignored. Current value: min_data_in_leaf=342\n",
            "[LightGBM] [Warning] feature_fraction is set=0.7909229015101968, colsample_bytree=0.9348504499412496 will be ignored. Current value: feature_fraction=0.7909229015101968\n",
            "[LightGBM] [Warning] min_data_in_leaf is set=342, min_child_samples=20 will be ignored. Current value: min_data_in_leaf=342\n",
            "[LightGBM] [Warning] feature_fraction is set=0.7909229015101968, colsample_bytree=0.9348504499412496 will be ignored. Current value: feature_fraction=0.7909229015101968\n",
            "[LightGBM] [Warning] min_data_in_leaf is set=342, min_child_samples=20 will be ignored. Current value: min_data_in_leaf=342\n",
            "[LightGBM] [Warning] feature_fraction is set=0.7909229015101968, colsample_bytree=0.9348504499412496 will be ignored. Current value: feature_fraction=0.7909229015101968\n",
            "[LightGBM] [Warning] min_data_in_leaf is set=342, min_child_samples=20 will be ignored. Current value: min_data_in_leaf=342\n",
            "[LightGBM] [Warning] feature_fraction is set=0.36606101357530896, colsample_bytree=0.6217415509064826 will be ignored. Current value: feature_fraction=0.36606101357530896\n",
            "[LightGBM] [Warning] min_data_in_leaf is set=374, min_child_samples=20 will be ignored. Current value: min_data_in_leaf=374\n",
            "[LightGBM] [Warning] feature_fraction is set=0.36606101357530896, colsample_bytree=0.6217415509064826 will be ignored. Current value: feature_fraction=0.36606101357530896\n",
            "[LightGBM] [Warning] min_data_in_leaf is set=374, min_child_samples=20 will be ignored. Current value: min_data_in_leaf=374\n",
            "[LightGBM] [Warning] feature_fraction is set=0.36606101357530896, colsample_bytree=0.6217415509064826 will be ignored. Current value: feature_fraction=0.36606101357530896\n",
            "[LightGBM] [Warning] min_data_in_leaf is set=374, min_child_samples=20 will be ignored. Current value: min_data_in_leaf=374\n",
            "[LightGBM] [Warning] feature_fraction is set=0.36606101357530896, colsample_bytree=0.6217415509064826 will be ignored. Current value: feature_fraction=0.36606101357530896\n",
            "[LightGBM] [Warning] min_data_in_leaf is set=374, min_child_samples=20 will be ignored. Current value: min_data_in_leaf=374\n",
            "[LightGBM] [Warning] feature_fraction is set=0.36606101357530896, colsample_bytree=0.6217415509064826 will be ignored. Current value: feature_fraction=0.36606101357530896\n",
            "[LightGBM] [Warning] min_data_in_leaf is set=374, min_child_samples=20 will be ignored. Current value: min_data_in_leaf=374\n",
            "[LightGBM] [Warning] feature_fraction is set=0.461597494817354, colsample_bytree=0.49427902583547345 will be ignored. Current value: feature_fraction=0.461597494817354\n",
            "[LightGBM] [Warning] min_data_in_leaf is set=168, min_child_samples=20 will be ignored. Current value: min_data_in_leaf=168\n"
          ]
        }
      ]
    },
    {
      "cell_type": "code",
      "metadata": {
        "colab": {
          "base_uri": "https://localhost:8080/"
        },
        "id": "SFnUsp0Q2Mel",
        "outputId": "79e4f6a9-0466-49a4-f826-b24f5a9e5d41"
      },
      "source": [
        "search.best_params_"
      ],
      "execution_count": null,
      "outputs": [
        {
          "output_type": "execute_result",
          "data": {
            "text/plain": [
              "{'clf__colsample_bytree': 0.49427902583547345,\n",
              " 'clf__feature_fraction': 0.461597494817354,\n",
              " 'clf__learning_rate': 0.35960848561021574,\n",
              " 'clf__max_bin': 234,\n",
              " 'clf__max_depth': 9,\n",
              " 'clf__min_data_in_leaf': 168,\n",
              " 'clf__n_estimators': 250,\n",
              " 'clf__num_leaves': 302,\n",
              " 'clf__reg_alpha': 0.17243947742449806,\n",
              " 'clf__reg_lambda': 0.29154835978392435}"
            ]
          },
          "metadata": {},
          "execution_count": 45
        }
      ]
    },
    {
      "cell_type": "code",
      "metadata": {
        "colab": {
          "base_uri": "https://localhost:8080/"
        },
        "id": "bR6ew1hr43o2",
        "outputId": "82d780f6-5257-4929-a2f5-d3d76a791458"
      },
      "source": [
        "#try out#1\n",
        "numeric_features = ['count_floors_pre_eq','age','area_percentage','height_percentage','count_families']\n",
        "\n",
        "categorical_features = ['land_surface_condition','foundation_type','roof_type','ground_floor_type','other_floor_type','position','plan_configuration','legal_ownership_status',\n",
        "                        'geo_level_1_id','geo_level_2_id','geo_level_3_id']\n",
        "\n",
        "drop_features = ['building_id','height_percentage']\n",
        "\n",
        "clf = lgb.LGBMClassifier(n_estimators= 285,\n",
        "                        num_leaves=1100,\n",
        "                        max_depth=9,\n",
        "                        learning_rate= 0.19,\n",
        "                        max_bin= 234,\n",
        "                        reg_lambda=0.2915483597,\n",
        "                        colsample_bytree=0.49427902583547345,\n",
        "                         reg_alpha=0.17243947742449806,\n",
        "                         feature_fraction=0.461597494817354,\n",
        "                         min_data_in_leaf=168)\n",
        "\n",
        "numeric_transformer = Pipeline(steps=[\n",
        "    ('imputer', SimpleImputer()),\n",
        "    ('scaler', StandardScaler()),\n",
        "    ])\n",
        "\n",
        "categorical_transformer = Pipeline(steps=[\n",
        "      ('encoder', TargetEncoder(handle_unknown='ignore')),\n",
        "      ])\n",
        "\n",
        "preprocessor_test1 = Pipeline(steps=[\n",
        "      ('ct', ColumnTransformer(\n",
        "        transformers=[\n",
        "            ('num', numeric_transformer, numeric_features),\n",
        "            ('cat', categorical_transformer, categorical_features),\n",
        "            ('drop', 'drop', drop_features)],\n",
        "            remainder = 'passthrough', \n",
        "            sparse_threshold=0)),\n",
        "      ('feature_selector', SelectKBest(k=35)),\n",
        "    ])\n",
        "\n",
        "pipe_test1 = Pipeline(steps=[('preprocessor', preprocessor_test1),  ('clf', clf)])\n",
        "\n",
        "\n",
        "scores_test1 = cross_val_score(pipe_test1, X_train, y_train, scoring='f1_micro', cv=10, n_jobs=-1, error_score=\"raise\")\n",
        "\n",
        "print(scores_test1)\n",
        "print(np.mean(scores_test1))"
      ],
      "execution_count": null,
      "outputs": [
        {
          "output_type": "stream",
          "name": "stdout",
          "text": [
            "[0.74517478 0.74274751 0.74213354 0.74205679 0.74620107 0.74520338\n",
            " 0.74435917 0.74182655 0.74623945 0.74036838]\n",
            "0.7436310622610044\n"
          ]
        }
      ]
    },
    {
      "cell_type": "code",
      "metadata": {
        "colab": {
          "base_uri": "https://localhost:8080/"
        },
        "id": "pAuXYaJ3fppl",
        "outputId": "86d30128-9cb6-490d-95d1-3a52fd7c4205"
      },
      "source": [
        "#try out#2__choose\n",
        "numeric_features = ['count_floors_pre_eq','age','area_percentage','height_percentage','count_families']\n",
        "\n",
        "categorical_features = ['land_surface_condition','foundation_type','roof_type','ground_floor_type','other_floor_type','position','plan_configuration','legal_ownership_status',\n",
        "                        'geo_level_1_id','geo_level_2_id','geo_level_3_id']\n",
        "\n",
        "drop_features = ['building_id','height_percentage']\n",
        "\n",
        "clf = lgb.LGBMClassifier(n_estimators= 285,\n",
        "                        num_leaves=1179,\n",
        "                        max_depth=10,\n",
        "                        learning_rate= 0.175,\n",
        "                        max_bin= 253,\n",
        "                        reg_lambda=0.38979,\n",
        "                        colsample_bytree=0.84713,\n",
        "                         reg_alpha=0.60759,\n",
        "                         feature_fraction=0.65638,\n",
        "                         min_data_in_leaf=92)\n",
        "\n",
        "numeric_transformer = Pipeline(steps=[\n",
        "    ('imputer', SimpleImputer()),\n",
        "    ('scaler', StandardScaler()),\n",
        "    ])\n",
        "\n",
        "categorical_transformer = Pipeline(steps=[\n",
        "      ('encoder', TargetEncoder(handle_unknown='ignore')),\n",
        "      ])\n",
        "\n",
        "preprocessor_test = Pipeline(steps=[\n",
        "      ('ct', ColumnTransformer(\n",
        "        transformers=[\n",
        "            ('num', numeric_transformer, numeric_features),\n",
        "            ('cat', categorical_transformer, categorical_features),\n",
        "            ('drop', 'drop', drop_features)],\n",
        "            remainder = 'passthrough', \n",
        "            sparse_threshold=0)),\n",
        "      ('feature_selector', SelectKBest(k=35)),\n",
        "    ])\n",
        "\n",
        "pipe_test = Pipeline(steps=[('preprocessor', preprocessor_test),  ('clf', clf)])\n",
        "\n",
        "\n",
        "scores_test = cross_val_score(pipe_test, X_train, y_train, scoring='f1_micro', cv=10, n_jobs=-1, error_score=\"raise\")\n",
        "\n",
        "print(scores_test)\n",
        "print(np.mean(scores_test))"
      ],
      "execution_count": null,
      "outputs": [
        {
          "output_type": "stream",
          "name": "stdout",
          "text": [
            "[0.74674801 0.74742901 0.74339985 0.74263239 0.75092095 0.74919417\n",
            " 0.74850345 0.7453185  0.74930929 0.74804298]\n",
            "0.7471498589868983\n"
          ]
        }
      ]
    },
    {
      "cell_type": "code",
      "metadata": {
        "id": "Ml_2H8styiwe",
        "colab": {
          "base_uri": "https://localhost:8080/"
        },
        "outputId": "6d9d67bc-a953-4db1-a488-e3bc6b898739"
      },
      "source": [
        "#Fit and predict \n",
        "pipe_test.fit(X_train,y_train)"
      ],
      "execution_count": null,
      "outputs": [
        {
          "output_type": "stream",
          "name": "stdout",
          "text": [
            "[LightGBM] [Warning] feature_fraction is set=0.65638, colsample_bytree=0.84713 will be ignored. Current value: feature_fraction=0.65638\n",
            "[LightGBM] [Warning] min_data_in_leaf is set=92, min_child_samples=20 will be ignored. Current value: min_data_in_leaf=92\n"
          ]
        },
        {
          "output_type": "execute_result",
          "data": {
            "text/plain": [
              "Pipeline(steps=[('preprocessor',\n",
              "                 Pipeline(steps=[('ct',\n",
              "                                  ColumnTransformer(remainder='passthrough',\n",
              "                                                    sparse_threshold=0,\n",
              "                                                    transformers=[('num',\n",
              "                                                                   Pipeline(steps=[('imputer',\n",
              "                                                                                    SimpleImputer()),\n",
              "                                                                                   ('scaler',\n",
              "                                                                                    StandardScaler())]),\n",
              "                                                                   ['count_floors_pre_eq',\n",
              "                                                                    'age',\n",
              "                                                                    'area_percentage',\n",
              "                                                                    'height_percentage',\n",
              "                                                                    'count_families']),\n",
              "                                                                  ('cat',\n",
              "                                                                   Pipeline(steps=[('encoder',\n",
              "                                                                                    TargetEncoder(handle...\n",
              "                                                                    'geo_level_1_id',\n",
              "                                                                    'geo_level_2_id',\n",
              "                                                                    'geo_level_3_id']),\n",
              "                                                                  ('drop',\n",
              "                                                                   'drop',\n",
              "                                                                   ['building_id',\n",
              "                                                                    'height_percentage'])])),\n",
              "                                 ('feature_selector', SelectKBest(k=35))])),\n",
              "                ('clf',\n",
              "                 LGBMClassifier(colsample_bytree=0.84713,\n",
              "                                feature_fraction=0.65638, learning_rate=0.175,\n",
              "                                max_bin=253, max_depth=10, min_data_in_leaf=92,\n",
              "                                n_estimators=285, num_leaves=1179,\n",
              "                                reg_alpha=0.60759, reg_lambda=0.38979))])"
            ]
          },
          "metadata": {},
          "execution_count": 65
        }
      ]
    },
    {
      "cell_type": "code",
      "metadata": {
        "id": "wvpdbccXLlLF"
      },
      "source": [
        "#Make Prediction\n",
        "pre = pipe_test.predict(X_test)"
      ],
      "execution_count": null,
      "outputs": []
    },
    {
      "cell_type": "code",
      "metadata": {
        "colab": {
          "base_uri": "https://localhost:8080/"
        },
        "id": "SPb-c-JzPRqR",
        "outputId": "5723a66e-21df-454b-9918-a5d13314438c"
      },
      "source": [
        "print(pre)"
      ],
      "execution_count": null,
      "outputs": [
        {
          "output_type": "stream",
          "name": "stdout",
          "text": [
            "[3 2 2 ... 2 2 2]\n"
          ]
        }
      ]
    },
    {
      "cell_type": "code",
      "metadata": {
        "id": "6DHXNg6hQbM7"
      },
      "source": [
        "#Put it into the submission file\n",
        "y_test.loc[:,'damage_grade'] = pre\n"
      ],
      "execution_count": null,
      "outputs": []
    },
    {
      "cell_type": "code",
      "metadata": {
        "colab": {
          "base_uri": "https://localhost:8080/"
        },
        "id": "2wb7oaNoQq23",
        "outputId": "fdb05fc1-3dea-4e58-961b-d6268690fc0e"
      },
      "source": [
        "y_test.shape"
      ],
      "execution_count": null,
      "outputs": [
        {
          "output_type": "execute_result",
          "data": {
            "text/plain": [
              "(86868, 2)"
            ]
          },
          "metadata": {},
          "execution_count": 69
        }
      ]
    },
    {
      "cell_type": "code",
      "metadata": {
        "colab": {
          "base_uri": "https://localhost:8080/",
          "height": 17
        },
        "id": "yELL9RbpQ_Ux",
        "outputId": "1ad1c80e-9cb7-4c8d-e7d7-105c82e32409"
      },
      "source": [
        "#save to csv\n",
        "from google.colab import files\n",
        "y_test.to_csv('submission_v3.1.csv',index=False, header=True)\n",
        "files.download('submission_v3.1.csv')"
      ],
      "execution_count": null,
      "outputs": [
        {
          "output_type": "display_data",
          "data": {
            "application/javascript": [
              "\n",
              "    async function download(id, filename, size) {\n",
              "      if (!google.colab.kernel.accessAllowed) {\n",
              "        return;\n",
              "      }\n",
              "      const div = document.createElement('div');\n",
              "      const label = document.createElement('label');\n",
              "      label.textContent = `Downloading \"${filename}\": `;\n",
              "      div.appendChild(label);\n",
              "      const progress = document.createElement('progress');\n",
              "      progress.max = size;\n",
              "      div.appendChild(progress);\n",
              "      document.body.appendChild(div);\n",
              "\n",
              "      const buffers = [];\n",
              "      let downloaded = 0;\n",
              "\n",
              "      const channel = await google.colab.kernel.comms.open(id);\n",
              "      // Send a message to notify the kernel that we're ready.\n",
              "      channel.send({})\n",
              "\n",
              "      for await (const message of channel.messages) {\n",
              "        // Send a message to notify the kernel that we're ready.\n",
              "        channel.send({})\n",
              "        if (message.buffers) {\n",
              "          for (const buffer of message.buffers) {\n",
              "            buffers.push(buffer);\n",
              "            downloaded += buffer.byteLength;\n",
              "            progress.value = downloaded;\n",
              "          }\n",
              "        }\n",
              "      }\n",
              "      const blob = new Blob(buffers, {type: 'application/binary'});\n",
              "      const a = document.createElement('a');\n",
              "      a.href = window.URL.createObjectURL(blob);\n",
              "      a.download = filename;\n",
              "      div.appendChild(a);\n",
              "      a.click();\n",
              "      div.remove();\n",
              "    }\n",
              "  "
            ],
            "text/plain": [
              "<IPython.core.display.Javascript object>"
            ]
          },
          "metadata": {}
        },
        {
          "output_type": "display_data",
          "data": {
            "application/javascript": [
              "download(\"download_a950a886-d902-4587-9412-7b1fa08d428b\", \"submission_v3.1.csv\", 777012)"
            ],
            "text/plain": [
              "<IPython.core.display.Javascript object>"
            ]
          },
          "metadata": {}
        }
      ]
    },
    {
      "cell_type": "code",
      "metadata": {
        "id": "kJqmRyyETQZ8"
      },
      "source": [
        ""
      ],
      "execution_count": null,
      "outputs": []
    }
  ]
}